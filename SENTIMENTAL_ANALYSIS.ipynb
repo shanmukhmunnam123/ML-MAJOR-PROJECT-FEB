{
  "nbformat": 4,
  "nbformat_minor": 0,
  "metadata": {
    "colab": {
      "name": "SENTIMENTAL_ANALYSIS.ipynb",
      "provenance": [],
      "authorship_tag": "ABX9TyPmrwbbU5dbLABR4EfmWkG1",
      "include_colab_link": true
    },
    "kernelspec": {
      "name": "python3",
      "display_name": "Python 3"
    },
    "language_info": {
      "name": "python"
    }
  },
  "cells": [
    {
      "cell_type": "markdown",
      "metadata": {
        "id": "view-in-github",
        "colab_type": "text"
      },
      "source": [
        "<a href=\"https://colab.research.google.com/github/shanmukhmunnam123/ML-MAJOR-PROJECT-FEB/blob/main/SENTIMENTAL_ANALYSIS.ipynb\" target=\"_parent\"><img src=\"https://colab.research.google.com/assets/colab-badge.svg\" alt=\"Open In Colab\"/></a>"
      ]
    },
    {
      "cell_type": "code",
      "metadata": {
        "id": "nmv9p4L3f-MD",
        "colab": {
          "base_uri": "https://localhost:8080/"
        },
        "outputId": "0ebea79b-610a-4ae2-ab05-c0904fbfaaf5"
      },
      "source": [
        "!pip install vaderSentiment"
      ],
      "execution_count": 1,
      "outputs": [
        {
          "output_type": "stream",
          "text": [
            "Collecting vaderSentiment\n",
            "\u001b[?25l  Downloading https://files.pythonhosted.org/packages/76/fc/310e16254683c1ed35eeb97386986d6c00bc29df17ce280aed64d55537e9/vaderSentiment-3.3.2-py2.py3-none-any.whl (125kB)\n",
            "\r\u001b[K     |██▋                             | 10kB 15.1MB/s eta 0:00:01\r\u001b[K     |█████▏                          | 20kB 17.7MB/s eta 0:00:01\r\u001b[K     |███████▉                        | 30kB 19.1MB/s eta 0:00:01\r\u001b[K     |██████████▍                     | 40kB 15.4MB/s eta 0:00:01\r\u001b[K     |█████████████                   | 51kB 14.4MB/s eta 0:00:01\r\u001b[K     |███████████████▋                | 61kB 14.0MB/s eta 0:00:01\r\u001b[K     |██████████████████▏             | 71kB 11.7MB/s eta 0:00:01\r\u001b[K     |████████████████████▉           | 81kB 12.8MB/s eta 0:00:01\r\u001b[K     |███████████████████████▍        | 92kB 11.4MB/s eta 0:00:01\r\u001b[K     |██████████████████████████      | 102kB 11.5MB/s eta 0:00:01\r\u001b[K     |████████████████████████████▋   | 112kB 11.5MB/s eta 0:00:01\r\u001b[K     |███████████████████████████████▏| 122kB 11.5MB/s eta 0:00:01\r\u001b[K     |████████████████████████████████| 133kB 11.5MB/s \n",
            "\u001b[?25hRequirement already satisfied: requests in /usr/local/lib/python3.7/dist-packages (from vaderSentiment) (2.23.0)\n",
            "Requirement already satisfied: chardet<4,>=3.0.2 in /usr/local/lib/python3.7/dist-packages (from requests->vaderSentiment) (3.0.4)\n",
            "Requirement already satisfied: idna<3,>=2.5 in /usr/local/lib/python3.7/dist-packages (from requests->vaderSentiment) (2.10)\n",
            "Requirement already satisfied: urllib3!=1.25.0,!=1.25.1,<1.26,>=1.21.1 in /usr/local/lib/python3.7/dist-packages (from requests->vaderSentiment) (1.24.3)\n",
            "Requirement already satisfied: certifi>=2017.4.17 in /usr/local/lib/python3.7/dist-packages (from requests->vaderSentiment) (2020.12.5)\n",
            "Installing collected packages: vaderSentiment\n",
            "Successfully installed vaderSentiment-3.3.2\n"
          ],
          "name": "stdout"
        }
      ]
    },
    {
      "cell_type": "code",
      "metadata": {
        "id": "-K5yaD-Tgls1"
      },
      "source": [
        "from vaderSentiment.vaderSentiment import SentimentIntensityAnalyzer\n",
        "vs=SentimentIntensityAnalyzer()"
      ],
      "execution_count": 2,
      "outputs": []
    },
    {
      "cell_type": "code",
      "metadata": {
        "id": "vza8KZT8gvnT"
      },
      "source": [
        ""
      ],
      "execution_count": null,
      "outputs": []
    },
    {
      "cell_type": "code",
      "metadata": {
        "colab": {
          "base_uri": "https://localhost:8080/"
        },
        "id": "WO38BqxRgv0g",
        "outputId": "e48dd5b4-a22d-4384-fb9d-2949a866e875"
      },
      "source": [
        "text=\"The product is really cool!!\"\n",
        "vs.polarity_scores(text)"
      ],
      "execution_count": 3,
      "outputs": [
        {
          "output_type": "execute_result",
          "data": {
            "text/plain": [
              "{'compound': 0.49, 'neg': 0.0, 'neu': 0.557, 'pos': 0.443}"
            ]
          },
          "metadata": {
            "tags": []
          },
          "execution_count": 3
        }
      ]
    },
    {
      "cell_type": "code",
      "metadata": {
        "colab": {
          "base_uri": "https://localhost:8080/"
        },
        "id": "QN11oG3vg9Q8",
        "outputId": "36930d06-7a3a-43c1-a501-7fd669b0e5ae"
      },
      "source": [
        "text2=\"The teacher is good but needs a lot of improvement in speaking\"\n",
        "vs.polarity_scores(text2)"
      ],
      "execution_count": 4,
      "outputs": [
        {
          "output_type": "execute_result",
          "data": {
            "text/plain": [
              "{'compound': 0.714, 'neg': 0.0, 'neu': 0.627, 'pos': 0.373}"
            ]
          },
          "metadata": {
            "tags": []
          },
          "execution_count": 4
        }
      ]
    },
    {
      "cell_type": "code",
      "metadata": {
        "colab": {
          "base_uri": "https://localhost:8080/"
        },
        "id": "ePztmMZ5hG2o",
        "outputId": "063669b2-9ebf-4753-f9f6-9415169dc244"
      },
      "source": [
        "text3=\"Yuvraj Singh played an excellent cover drive!!\"\n",
        "vs.polarity_scores(text3)"
      ],
      "execution_count": 5,
      "outputs": [
        {
          "output_type": "execute_result",
          "data": {
            "text/plain": [
              "{'compound': 0.7707, 'neg': 0.0, 'neu': 0.428, 'pos': 0.572}"
            ]
          },
          "metadata": {
            "tags": []
          },
          "execution_count": 5
        }
      ]
    },
    {
      "cell_type": "code",
      "metadata": {
        "colab": {
          "base_uri": "https://localhost:8080/"
        },
        "id": "hxbN3eSXhPJ1",
        "outputId": "7ba7085a-4f82-4c76-e632-30bc6da4af55"
      },
      "source": [
        "text4=\"The mobile phone which i brought was working fine\"\n",
        "vs.polarity_scores(text4)"
      ],
      "execution_count": 6,
      "outputs": [
        {
          "output_type": "execute_result",
          "data": {
            "text/plain": [
              "{'compound': 0.2023, 'neg': 0.0, 'neu': 0.816, 'pos': 0.184}"
            ]
          },
          "metadata": {
            "tags": []
          },
          "execution_count": 6
        }
      ]
    },
    {
      "cell_type": "code",
      "metadata": {
        "id": "pgBNUyLohYi1"
      },
      "source": [
        "\n",
        "import requests\n",
        "from bs4 import BeautifulSoup\n",
        "import pandas as pd\n",
        "import numpy as np\n",
        "import os"
      ],
      "execution_count": 8,
      "outputs": []
    },
    {
      "cell_type": "code",
      "metadata": {
        "colab": {
          "base_uri": "https://localhost:8080/"
        },
        "id": "yXvgLKuMhjO3",
        "outputId": "9f355907-4484-4369-c4ff-f71db5908801"
      },
      "source": [
        "url='https://inshorts.com/en/sports'\n",
        "news_data=[]\n",
        "news_category=url.split('/')[-1]\n",
        "data=requests.get(url)\n",
        "soup=BeautifulSoup(data.content)\n",
        "print(soup)"
      ],
      "execution_count": 9,
      "outputs": [
        {
          "output_type": "stream",
          "text": [
            "<!DOCTYPE html>\n",
            "<html lang=\"utf-8\">\n",
            "<head>\n",
            "<title>Short English &amp; Hindi News|Latest News, India News, Current Affairs|Inshorts</title>\n",
            "<meta content=\"width=device-width\" name=\"viewport\"/>\n",
            "<link href=\"https://cdnjs.cloudflare.com/ajax/libs/materialize/0.97.6/css/materialize.min.css\" rel=\"stylesheet\"/>\n",
            "<link href=\"/assets/public/main_styles.e01107bf1a20a3d17e5a.css\" rel=\"stylesheet\"/>\n",
            "<link href=\"dist/images/favicon.png\" rel=\"shortcut icon\" type=\"image/x-icon\"/>\n",
            "<meta content=\"Read latest news with inshorts in less than 60 words, related to business, sports, bollywood and technology in India and around the world in both english &amp; hindi.\" name=\"description\"/>\n",
            "<meta content=\"summary_large_image\" name=\"twitter:card\"/>\n",
            "<meta content=\"@inshorts\" name=\"twitter:site\"/>\n",
            "<meta content=\"@inshorts\" name=\"twitter:creator\"/>\n",
            "<meta content=\"Short English &amp; Hindi News|Latest News, India News, Current Affairs|Inshorts\" name=\"twitter:title\"/>\n",
            "<meta content=\"Read latest news with inshorts in less than 60 words, related to business, sports, bollywood and technology in India and around the world in both english &amp; hindi.\" name=\"twitter:description\"/>\n",
            "<meta content=\"https://inshorts.com/assets/images/favicon.png\" name=\"twitter:image\"/>\n",
            "<meta content=\"168662373317120\" property=\"fb:app_id\"/>\n",
            "<meta content=\"Inshorts - Stay Informed\" property=\"og:site_name\"/>\n",
            "<meta content=\"news-in-shorts:short\" property=\"og:type\"/>\n",
            "<meta content=\"https://inshorts.com\" property=\"og:url\"/>\n",
            "<meta content=\"Short English &amp; Hindi News|Latest News, India News, Current Affairs|Inshorts\" property=\"og:title\"/>\n",
            "<meta content=\"https://inshorts.com/assets/images/favicon.png\" property=\"og:image\"/>\n",
            "<meta content=\"Read latest news with inshorts in less than 60 words, related to business, sports, bollywood and technology in India and around the world in both english &amp; hindi.\" property=\"og:description\"/>\n",
            "<meta content=\"1618943034767\" property=\"og:updated_time\"/>\n",
            "<meta content=\"true\" property=\"og:rich_attachment\"/>\n",
            "<meta content=\"true\" property=\"al:web:should_fallback\"/>\n",
            "<meta content=\"nis://\" property=\"al:ios:url\"/>\n",
            "<meta content=\"892146527\" property=\"al:ios:app_store_id\"/>\n",
            "<meta content=\"Inshorts - Stay Informed\" property=\"al:ios:app_name\"/>\n",
            "<meta content=\"nis://\" property=\"al:iphone:url\"/>\n",
            "<meta content=\"892146527\" property=\"al:iphone:app_store_id\"/>\n",
            "<meta content=\"Inshorts - Stay Informed\" property=\"al:iphone:app_name\"/>\n",
            "<meta content=\"nis://\" property=\"al:ipad:url\"/>\n",
            "<meta content=\"892146527\" property=\"al:ipad:app_store_id\"/>\n",
            "<meta content=\"Inshorts - Stay Informed\" property=\"al:ipad:app_name\"/>\n",
            "<meta content=\"nis://\" property=\"al:android:url\"/>\n",
            "<meta content=\"com.nis.app\" property=\"al:android:package\"/>\n",
            "<meta content=\"Inshorts - Stay Informed\" property=\"al:android:app_name\"/>\n",
            "</head><body class=\"android_false ios_false country_IN phone_false tablet_false seven_inch_false\" data-country=\"IN\">\n",
            "<div class=\"parent_container\">\n",
            "<div class=\"main_container\" id=\"main\">\n",
            "<div class=\"wrapper\"><div class=\"header\"><div class=\"logo\"></div><div class=\"action_links blog\"><a href=\"https://blog.inshorts.com/\" target=\"_blank\">Blog</a></div><div class=\"action_links careers\"><a href=\"https://careers.inshorts.com/\" target=\"_blank\">Careers</a></div><div class=\"action_links read_now\"><a href=\"/en/read\" target=\"_blank\">Read Now</a></div></div><div class=\"main_content_container\"><div class=\"left_container\"><div class=\"image_container\"></div></div><div class=\"right_container\"><h1>Stay informed in 60 words.</h1><h2>We understand you don’t have time to go through long news articles everyday. So we cut the clutter and deliver them, in 60-word shorts. Short news for the mobile generation.</h2><h3><div class=\"us_content\"><div class=\"heading\">3 Billion shorts served, coming soon to the US.</div><div class=\"content\">Join our beta program to know as soon as we launch.</div><div class=\"disclaimer\">Looking for Indian version?<span class=\"underline\">Click here</span></div></div><div class=\"india_content\"><a href=\"https://itunes.apple.com/us/app/news-in-shorts/id892146527\" target=\"_blank\"><div class=\"ios_container\"></div></a><a href=\"https://play.google.com/store/apps/details?id=com.nis.app&amp;referrer=utm_source=inshorts%20mobile\" target=\"_blank\"><div class=\"android_container\"></div></a></div></h3></div></div><div class=\"featured_in\"><div class=\"heading\">Awards</div><div class=\"seperator_bottom\"></div><div class=\"featured_band\"><div class=\"award\"></div></div></div><ul class=\"vertical_carousel\" id=\"vertical_carousel\"><li class=\"vertical_carousel_screen layer screen1\" data-scrollax-parent=\"true\"><div class=\"left_container\"><div class=\"heading\" data-scrollax=\"properties: { 'translateY': '100%', 'opacity': 2 }\">Your Personal App,<br/> Your Personalised Shorts.</div><div class=\"content\" data-scrollax=\"properties: { 'translateY': '100%', 'opacity': 2 }\">Our AI engine intuitively understands what you like reading, and delivers more of that in a single feed. In your ‘My Feed’, everything you read, is everything you need.</div></div><div class=\"right_container\"><div class=\"image_container screen1\" data-scrollax=\"properties: { 'translateY': '50%', 'opacity': 2 }\"></div><div class=\"state_container screen1\"><div class=\"state1 screen1\"></div><div class=\"state2 screen1\"></div><div class=\"state3 screen1\"></div></div></div></li><li class=\"vertical_carousel_screen layer screen2\" data-scrollax-parent=\"true\"><div class=\"left_container\"><div class=\"heading\" data-scrollax=\"properties: { 'translateY': '100%', 'opacity': 2 }\">Explore an array of news categories, all in one place.</div><div class=\"content\" data-scrollax=\"properties: { 'translateY': '100%', 'opacity': 2 }\">Browse through the section of your choice and discover trending news topics. Share your opinion on stories instantly by submitting your response on our poll.</div></div><div class=\"right_container\"><div class=\"image_container screen2\" data-scrollax=\"properties: { 'translateY': '50%', 'opacity': 2 }\"></div><div class=\"state_container screen2\"><div class=\"state1 screen2\"></div><div class=\"state2 screen2\"></div><div class=\"state3 screen2\"></div></div></div></li><li class=\"vertical_carousel_screen layer screen3\" data-scrollax-parent=\"true\"><div class=\"left_container\"><div class=\"heading\" data-scrollax=\"properties: { 'translateY': '100%', 'opacity': 2 }\">Your favourite sources in one app. In short.</div><div class=\"content\" data-scrollax=\"properties: { 'translateY': '100%', 'opacity': 2 }\">We pick-up articles from all your favourite sources and present them in 60-word shorts. Read full articles for shorts that interest you, within the app.</div></div><div class=\"right_container\"><div class=\"image_container screen3\" data-scrollax=\"properties: { 'translateY': '50%', 'opacity': 2 }\"></div><div class=\"state_container screen3\"><div class=\"state1 screen3\"></div><div class=\"state2 screen3\"></div><div class=\"state3 screen3\"></div></div></div></li></ul><div><div class=\"featured_in\"><div class=\"heading\">As Featured In</div><div class=\"seperator_bottom\"></div><div class=\"featured_band\"><div class=\"sprite feature tech_crunch\"></div><div class=\"sprite feature bussiness_insider\"></div><div class=\"sprite feature forbes\"></div><div class=\"sprite feature fortune\"></div><div class=\"sprite feature economic_times\"></div></div></div><div class=\"appreciation_band_container\"><div class=\"heading\">Best in the Business</div><div class=\"seperator_bottom\"></div><div class=\"appreciation_band horizontal_scrollable\"><div class=\"appreciaion_block items\"><div class=\"sprite img_container users\"></div><div class=\"heading\">Loved by users</div><div class=\"content\">With a rating of 4.6, we’re the highest-rated news app on the Playstore</div></div><div class=\"appreciaion_block items\"><div class=\"sprite img_container stores\"></div><div class=\"heading\">Loved by app stores</div><div class=\"content\">We’ve been in Apple’s Featured Apps showcase and Google’s list of the Best Apps of 2015</div></div><div class=\"appreciaion_block items\"><div class=\"sprite img_container publishers\"></div><div class=\"heading\">Loved by publishers</div><div class=\"content\">With more than 30 content partners globally, publishers love being on Inshorts</div></div></div></div></div><div class=\"enter_email_container main_content_container\"><div class=\"india_content\"><h3 class=\"label\">Download the easiest way to stay informed</h3><div><a href=\"https://itunes.apple.com/us/app/news-in-shorts/id892146527\" target=\"_blank\"><div class=\"ios_container\"></div></a><a href=\"https://play.google.com/store/apps/details?id=com.nis.app&amp;referrer=utm_source=inshorts%20mobile\" target=\"_blank\"><div class=\"android_container\"></div></a></div></div><div class=\"us_content\"><div class=\"label\">3 Billion shorts served, coming soon to the US.</div></div></div><div class=\"footer\"><div class=\"left_container\"><a href=\"/tnc\" target=\"_blank\">Terms &amp; Conditions</a><a href=\"/privacy\" target=\"_blank\">Privacy Policy</a><a href=\"/editorial_policy\" target=\"_blank\">Editorial Policy - Key Highlights</a><a href=\"/notification_to_vendors\" target=\"_blank\">Notification to Vendors</a><div class=\"logo\"></div><div class=\"disclaimer\"><div>Inshorts MediaLabs Pvt. Ltd</div><div>© COPYRIGHT 2021</div></div></div><div class=\"right_container\"><a href=\"https://facebook.com/inshortsapp\" target=\"_blank\">Facebook</a><a href=\"https://twitter.com/inshorts\" target=\"_blank\">Twitter</a><a class=\"contact_us_action\">Email</a></div></div></div>\n",
            "</div>\n",
            "</div>\n",
            "<script src=\"/assets/public/libraries.935e8ffc1f4fe2e9cbe7.bundle.js\" type=\"text/javascript\"></script>\n",
            "<script src=\"/assets/public/app.a8a6e1b8be2135b8d962.bundle.js\" type=\"text/javascript\"></script>\n",
            "<script src=\"/assets/public/main.55a8a780b2673ea8c151.bundle.js\" type=\"text/javascript\"></script>\n",
            "<script>\n",
            "      (function(i,s,o,g,r,a,m){i['GoogleAnalyticsObject']=r;i[r]=i[r]||function(){\n",
            "      (i[r].q=i[r].q||[]).push(arguments)},i[r].l=1*new Date();a=s.createElement(o),\n",
            "      m=s.getElementsByTagName(o)[0];a.async=1;a.src=g;m.parentNode.insertBefore(a,m)\n",
            "      })(window,document,'script','https://www.google-analytics.com/analytics.js','ga');\n",
            "\n",
            "      ga('create', 'UA-55157535-6', 'auto');\n",
            "      ga('send', 'pageview');\n",
            "\n",
            "    </script>\n",
            "<!-- Facebook Pixel Code -->\n",
            "<script>\n",
            "      !function(f,b,e,v,n,t,s)\n",
            "      {if(f.fbq)return;n=f.fbq=function(){n.callMethod?\n",
            "      n.callMethod.apply(n,arguments):n.queue.push(arguments)};\n",
            "      if(!f._fbq)f._fbq=n;n.push=n;n.loaded=!0;n.version='2.0';\n",
            "      n.queue=[];t=b.createElement(e);t.async=!0;\n",
            "      t.src=v;s=b.getElementsByTagName(e)[0];\n",
            "      s.parentNode.insertBefore(t,s)}(window, document,'script',\n",
            "      'https://connect.facebook.net/en_US/fbevents.js');\n",
            "      fbq('init', '822966517773327');\n",
            "      fbq('track', 'PageView');\n",
            "    </script>\n",
            "<noscript><img height=\"1\" src=\"https://www.facebook.com/tr?id=822966517773327&amp;ev=PageView&amp;noscript=1\" style=\"display:none\" width=\"1\"/></noscript>\n",
            "<!-- End Facebook Pixel Code -->\n",
            "<!-- Begin comScore Tag -->\n",
            "<script>\n",
            "      var _comscore = _comscore || [];\n",
            "      _comscore.push({ c1: \"2\", c2: \"28268321\" });\n",
            "      (function() {\n",
            "        var s = document.createElement(\"script\"), el = document.getElementsByTagName(\"script\")[0]; s.async = true;\n",
            "        s.src = (document.location.protocol == \"https:\" ? \"https://sb\" : \"http://b\") + \".scorecardresearch.com/beacon.js\";\n",
            "        el.parentNode.insertBefore(s, el);\n",
            "      })();\n",
            "    </script>\n",
            "<noscript>\n",
            "<img src=\"https://sb.scorecardresearch.com/p?c1=2&amp;c2=28268321&amp;cv=2.0&amp;cj=1\"/>\n",
            "</noscript>\n",
            "<!-- End comScore Tag -->\n",
            "</body>\n",
            "<!--  Scripts-->\n",
            "</html>\n"
          ],
          "name": "stdout"
        }
      ]
    },
    {
      "cell_type": "code",
      "metadata": {
        "id": "ePjwoXPDhwtH"
      },
      "source": [
        "urls = ['https://inshorts.com/en/read/sports',\n",
        "        'https://inshorts.com/en/read/world',\n",
        "        'https://inshorts.com/en/read/politics']\n",
        "def build_dataset(urls):\n",
        "  news_data = []\n",
        "  for url in urls:\n",
        "    news_category = url.split('/')[-1]\n",
        "    data = requests.get(url)\n",
        "    soup = BeautifulSoup(data.content)\n",
        "\n",
        "    news_articles=[{'news_headline':headline.find('span',attrs={\"itemprop\":\"headline\"}).string,\n",
        "                    'news_article':article.find('div',attrs={\"itemprop\":\"articleBody\"}).string,\n",
        "                    'news_category':news_category}\n",
        "                   \n",
        "                   for headline,article in zip(soup.find_all('div',class_=[\"news-card-title news-right-box\"]),\n",
        "                                               soup.find_all('div',class_=[\"news-card-content news-right-box\"]))] \n",
        "    news_articles=news_articles[0:20]\n",
        "    news_data.extend(news_articles)\n",
        "  \n",
        "  df = pd.DataFrame(news_data)\n",
        "  df = df[['news_headline','news_article','news_category']]\n",
        "  return df"
      ],
      "execution_count": 10,
      "outputs": []
    },
    {
      "cell_type": "code",
      "metadata": {
        "colab": {
          "base_uri": "https://localhost:8080/",
          "height": 195
        },
        "id": "9thMgdy4h3iP",
        "outputId": "52dd022f-0727-4e78-85b3-07c43ed2c148"
      },
      "source": [
        "df=build_dataset(urls)\n",
        "df.head()"
      ],
      "execution_count": 11,
      "outputs": [
        {
          "output_type": "execute_result",
          "data": {
            "text/html": [
              "<div>\n",
              "<style scoped>\n",
              "    .dataframe tbody tr th:only-of-type {\n",
              "        vertical-align: middle;\n",
              "    }\n",
              "\n",
              "    .dataframe tbody tr th {\n",
              "        vertical-align: top;\n",
              "    }\n",
              "\n",
              "    .dataframe thead th {\n",
              "        text-align: right;\n",
              "    }\n",
              "</style>\n",
              "<table border=\"1\" class=\"dataframe\">\n",
              "  <thead>\n",
              "    <tr style=\"text-align: right;\">\n",
              "      <th></th>\n",
              "      <th>news_headline</th>\n",
              "      <th>news_article</th>\n",
              "      <th>news_category</th>\n",
              "    </tr>\n",
              "  </thead>\n",
              "  <tbody>\n",
              "    <tr>\n",
              "      <th>0</th>\n",
              "      <td>Beckham responds to European Super League plan...</td>\n",
              "      <td>After 12 of Europe's leading football clubs in...</td>\n",
              "      <td>sports</td>\n",
              "    </tr>\n",
              "    <tr>\n",
              "      <th>1</th>\n",
              "      <td>DC end 5-match losing streak vs MI, win 1st ma...</td>\n",
              "      <td>Delhi Capitals defeated Mumbai Indians by six ...</td>\n",
              "      <td>sports</td>\n",
              "    </tr>\n",
              "    <tr>\n",
              "      <th>2</th>\n",
              "      <td>Shubman's family receives Mahindra Thar gifted...</td>\n",
              "      <td>Team India batsman Shubman Gill took to social...</td>\n",
              "      <td>sports</td>\n",
              "    </tr>\n",
              "    <tr>\n",
              "      <th>3</th>\n",
              "      <td>Situation becoming challenging, request you to...</td>\n",
              "      <td>In a video shared by Delhi Police, Team India ...</td>\n",
              "      <td>sports</td>\n",
              "    </tr>\n",
              "    <tr>\n",
              "      <th>4</th>\n",
              "      <td>RR get in ICU once Buttler and Samson are dism...</td>\n",
              "      <td>Ex-India batsman Aakash Chopra said Rajasthan ...</td>\n",
              "      <td>sports</td>\n",
              "    </tr>\n",
              "  </tbody>\n",
              "</table>\n",
              "</div>"
            ],
            "text/plain": [
              "                                       news_headline  ... news_category\n",
              "0  Beckham responds to European Super League plan...  ...        sports\n",
              "1  DC end 5-match losing streak vs MI, win 1st ma...  ...        sports\n",
              "2  Shubman's family receives Mahindra Thar gifted...  ...        sports\n",
              "3  Situation becoming challenging, request you to...  ...        sports\n",
              "4  RR get in ICU once Buttler and Samson are dism...  ...        sports\n",
              "\n",
              "[5 rows x 3 columns]"
            ]
          },
          "metadata": {
            "tags": []
          },
          "execution_count": 11
        }
      ]
    },
    {
      "cell_type": "code",
      "metadata": {
        "colab": {
          "base_uri": "https://localhost:8080/",
          "height": 195
        },
        "id": "jugn-M7vh-8U",
        "outputId": "37654872-736e-4031-c90f-21361cf37682"
      },
      "source": [
        "df.tail()"
      ],
      "execution_count": 12,
      "outputs": [
        {
          "output_type": "execute_result",
          "data": {
            "text/html": [
              "<div>\n",
              "<style scoped>\n",
              "    .dataframe tbody tr th:only-of-type {\n",
              "        vertical-align: middle;\n",
              "    }\n",
              "\n",
              "    .dataframe tbody tr th {\n",
              "        vertical-align: top;\n",
              "    }\n",
              "\n",
              "    .dataframe thead th {\n",
              "        text-align: right;\n",
              "    }\n",
              "</style>\n",
              "<table border=\"1\" class=\"dataframe\">\n",
              "  <thead>\n",
              "    <tr style=\"text-align: right;\">\n",
              "      <th></th>\n",
              "      <th>news_headline</th>\n",
              "      <th>news_article</th>\n",
              "      <th>news_category</th>\n",
              "    </tr>\n",
              "  </thead>\n",
              "  <tbody>\n",
              "    <tr>\n",
              "      <th>55</th>\n",
              "      <td>Campaign ends ahead of sixth phase of polls in...</td>\n",
              "      <td>The campaign for sixth phase of West Bengal As...</td>\n",
              "      <td>politics</td>\n",
              "    </tr>\n",
              "    <tr>\n",
              "      <th>56</th>\n",
              "      <td>Kamal Haasan complains of 'mystery' vehicles i...</td>\n",
              "      <td>Makkal Needhi Maiam (MNM) chief Kamal Haasan o...</td>\n",
              "      <td>politics</td>\n",
              "    </tr>\n",
              "    <tr>\n",
              "      <th>57</th>\n",
              "      <td>TMC speaking in different voices on leader und...</td>\n",
              "      <td>Union Home Minister Amit Shah on Monday said T...</td>\n",
              "      <td>politics</td>\n",
              "    </tr>\n",
              "    <tr>\n",
              "      <th>58</th>\n",
              "      <td>Probe medicine hoarders instead of Opp'n: Cong...</td>\n",
              "      <td>Congress leader and ex-Maharashtra CM Ashok Ch...</td>\n",
              "      <td>politics</td>\n",
              "    </tr>\n",
              "    <tr>\n",
              "      <th>59</th>\n",
              "      <td>Bengal shouldn't be party to national degenera...</td>\n",
              "      <td>Nobel laureate Amartya Sen has said that Benga...</td>\n",
              "      <td>politics</td>\n",
              "    </tr>\n",
              "  </tbody>\n",
              "</table>\n",
              "</div>"
            ],
            "text/plain": [
              "                                        news_headline  ... news_category\n",
              "55  Campaign ends ahead of sixth phase of polls in...  ...      politics\n",
              "56  Kamal Haasan complains of 'mystery' vehicles i...  ...      politics\n",
              "57  TMC speaking in different voices on leader und...  ...      politics\n",
              "58  Probe medicine hoarders instead of Opp'n: Cong...  ...      politics\n",
              "59  Bengal shouldn't be party to national degenera...  ...      politics\n",
              "\n",
              "[5 rows x 3 columns]"
            ]
          },
          "metadata": {
            "tags": []
          },
          "execution_count": 12
        }
      ]
    },
    {
      "cell_type": "code",
      "metadata": {
        "id": "5Kletud6iH-0"
      },
      "source": [
        "df.to_csv('news.csv',index=False)"
      ],
      "execution_count": 14,
      "outputs": []
    },
    {
      "cell_type": "code",
      "metadata": {
        "colab": {
          "base_uri": "https://localhost:8080/",
          "height": 1000
        },
        "id": "j6W5qwOzjM5i",
        "outputId": "5939f306-efe2-4916-ca62-259fb379e04a"
      },
      "source": [
        "import pandas as pd\n",
        "pd.read_csv('https://raw.githubusercontent.com/shanmukhmunnam123/ML-MAJOR-PROJECT-FEB/main/news.csv')\n",
        "df"
      ],
      "execution_count": 15,
      "outputs": [
        {
          "output_type": "execute_result",
          "data": {
            "text/html": [
              "<div>\n",
              "<style scoped>\n",
              "    .dataframe tbody tr th:only-of-type {\n",
              "        vertical-align: middle;\n",
              "    }\n",
              "\n",
              "    .dataframe tbody tr th {\n",
              "        vertical-align: top;\n",
              "    }\n",
              "\n",
              "    .dataframe thead th {\n",
              "        text-align: right;\n",
              "    }\n",
              "</style>\n",
              "<table border=\"1\" class=\"dataframe\">\n",
              "  <thead>\n",
              "    <tr style=\"text-align: right;\">\n",
              "      <th></th>\n",
              "      <th>news_headline</th>\n",
              "      <th>news_article</th>\n",
              "      <th>news_category</th>\n",
              "    </tr>\n",
              "  </thead>\n",
              "  <tbody>\n",
              "    <tr>\n",
              "      <th>0</th>\n",
              "      <td>Beckham responds to European Super League plan...</td>\n",
              "      <td>After 12 of Europe's leading football clubs in...</td>\n",
              "      <td>sports</td>\n",
              "    </tr>\n",
              "    <tr>\n",
              "      <th>1</th>\n",
              "      <td>DC end 5-match losing streak vs MI, win 1st ma...</td>\n",
              "      <td>Delhi Capitals defeated Mumbai Indians by six ...</td>\n",
              "      <td>sports</td>\n",
              "    </tr>\n",
              "    <tr>\n",
              "      <th>2</th>\n",
              "      <td>Shubman's family receives Mahindra Thar gifted...</td>\n",
              "      <td>Team India batsman Shubman Gill took to social...</td>\n",
              "      <td>sports</td>\n",
              "    </tr>\n",
              "    <tr>\n",
              "      <th>3</th>\n",
              "      <td>Situation becoming challenging, request you to...</td>\n",
              "      <td>In a video shared by Delhi Police, Team India ...</td>\n",
              "      <td>sports</td>\n",
              "    </tr>\n",
              "    <tr>\n",
              "      <th>4</th>\n",
              "      <td>RR get in ICU once Buttler and Samson are dism...</td>\n",
              "      <td>Ex-India batsman Aakash Chopra said Rajasthan ...</td>\n",
              "      <td>sports</td>\n",
              "    </tr>\n",
              "    <tr>\n",
              "      <th>5</th>\n",
              "      <td>Dhawan's current form reminds me of his U-19 d...</td>\n",
              "      <td>Ex-India batsman VVS Laxman has said that DC o...</td>\n",
              "      <td>sports</td>\n",
              "    </tr>\n",
              "    <tr>\n",
              "      <th>6</th>\n",
              "      <td>MI know Chennai conditions, challenge is for u...</td>\n",
              "      <td>Ahead of their game against MI in Chennai, DC ...</td>\n",
              "      <td>sports</td>\n",
              "    </tr>\n",
              "    <tr>\n",
              "      <th>7</th>\n",
              "      <td>Dhoni was spot on in his 200th match as CSK sk...</td>\n",
              "      <td>Ex-India cricketer Sunil Gavaskar has said tha...</td>\n",
              "      <td>sports</td>\n",
              "    </tr>\n",
              "    <tr>\n",
              "      <th>8</th>\n",
              "      <td>Amit Mishra (4/24) registers best figures by a...</td>\n",
              "      <td>Spinner Amit Mishra on Tuesday registered the ...</td>\n",
              "      <td>sports</td>\n",
              "    </tr>\n",
              "    <tr>\n",
              "      <th>9</th>\n",
              "      <td>ABD, Rohit: Kuldeep names the toughest to bowl...</td>\n",
              "      <td>On being asked to name two batsmen who are tou...</td>\n",
              "      <td>sports</td>\n",
              "    </tr>\n",
              "    <tr>\n",
              "      <th>10</th>\n",
              "      <td>As the old man, I'm happy to see new all-round...</td>\n",
              "      <td>CSK's 37-year-old all-rounder Dwayne Bravo has...</td>\n",
              "      <td>sports</td>\n",
              "    </tr>\n",
              "    <tr>\n",
              "      <th>11</th>\n",
              "      <td>DC need to get Mishra for Meriwala, Rahane for...</td>\n",
              "      <td>Commentator Aakash Chopra has suggested three ...</td>\n",
              "      <td>sports</td>\n",
              "    </tr>\n",
              "    <tr>\n",
              "      <th>12</th>\n",
              "      <td>Uthappa is waiting but Gaikwad has earned time...</td>\n",
              "      <td>With CSK's Ruturaj Gaikwad scoring 5, 5 and 10...</td>\n",
              "      <td>sports</td>\n",
              "    </tr>\n",
              "    <tr>\n",
              "      <th>13</th>\n",
              "      <td>The 1st 6 balls I played could have cost us in...</td>\n",
              "      <td>Talking about Monday's match against RR, CSK s...</td>\n",
              "      <td>sports</td>\n",
              "    </tr>\n",
              "    <tr>\n",
              "      <th>14</th>\n",
              "      <td>Challenge would be to switch on mentally on Ch...</td>\n",
              "      <td>Ahead of playing Mumbai Indians at MA Chidamba...</td>\n",
              "      <td>sports</td>\n",
              "    </tr>\n",
              "    <tr>\n",
              "      <th>15</th>\n",
              "      <td>Moeen Ali is on fire, he's enjoying batting at...</td>\n",
              "      <td>Chennai Super Kings all-rounder Sam Curran sai...</td>\n",
              "      <td>sports</td>\n",
              "    </tr>\n",
              "    <tr>\n",
              "      <th>16</th>\n",
              "      <td>CSK batting order is so long, Dhoni can take ...</td>\n",
              "      <td>Ex-West Indies captain Brian Lara feels \"Dhoni...</td>\n",
              "      <td>sports</td>\n",
              "    </tr>\n",
              "    <tr>\n",
              "      <th>17</th>\n",
              "      <td>CSK can build their team around Jadeja once Dh...</td>\n",
              "      <td>Former England captain Michael Vaughan said al...</td>\n",
              "      <td>sports</td>\n",
              "    </tr>\n",
              "    <tr>\n",
              "      <th>18</th>\n",
              "      <td>European Super League is a 'war on football': ...</td>\n",
              "      <td>Former Manchester United defender Rio Ferdinan...</td>\n",
              "      <td>sports</td>\n",
              "    </tr>\n",
              "    <tr>\n",
              "      <th>19</th>\n",
              "      <td>New Zealand pacer Wagner receives first dose o...</td>\n",
              "      <td>New Zealand fast bowler Neil Wagner on Tuesday...</td>\n",
              "      <td>sports</td>\n",
              "    </tr>\n",
              "    <tr>\n",
              "      <th>20</th>\n",
              "      <td>Which countries have restricted travel from In...</td>\n",
              "      <td>Amid a coronavirus surge in India, some countr...</td>\n",
              "      <td>world</td>\n",
              "    </tr>\n",
              "    <tr>\n",
              "      <th>21</th>\n",
              "      <td>Otters having cough, runny noses test positive...</td>\n",
              "      <td>The Georgia Aquarium in US' Atlanta says some ...</td>\n",
              "      <td>world</td>\n",
              "    </tr>\n",
              "    <tr>\n",
              "      <th>22</th>\n",
              "      <td>Israel registers 8 cases of COVID-19 strain 1s...</td>\n",
              "      <td>Israel has registered eight cases of a coronav...</td>\n",
              "      <td>world</td>\n",
              "    </tr>\n",
              "    <tr>\n",
              "      <th>23</th>\n",
              "      <td>We understand India's needs: US after Poonawal...</td>\n",
              "      <td>After SII CEO Adar Poonawalla requested US Pre...</td>\n",
              "      <td>world</td>\n",
              "    </tr>\n",
              "    <tr>\n",
              "      <th>24</th>\n",
              "      <td>Chad President dies 'in clashes with rebels' a...</td>\n",
              "      <td>Chad's President Idriss Deby has died allegedl...</td>\n",
              "      <td>world</td>\n",
              "    </tr>\n",
              "    <tr>\n",
              "      <th>25</th>\n",
              "      <td>World War II-era plane crash-lands in ocean ne...</td>\n",
              "      <td>A World War II-era plane crash-landed in the o...</td>\n",
              "      <td>world</td>\n",
              "    </tr>\n",
              "    <tr>\n",
              "      <th>26</th>\n",
              "      <td>People's reaction shocked me: Bush recalls old...</td>\n",
              "      <td>Ex-US President George W Bush, a Republican Pa...</td>\n",
              "      <td>world</td>\n",
              "    </tr>\n",
              "    <tr>\n",
              "      <th>27</th>\n",
              "      <td>US airport officers find crystal meth inside t...</td>\n",
              "      <td>Transportation Security Administration (TSA) a...</td>\n",
              "      <td>world</td>\n",
              "    </tr>\n",
              "    <tr>\n",
              "      <th>28</th>\n",
              "      <td>NZ airport worker tests COVID-19 +ve day after...</td>\n",
              "      <td>A New Zealand airport worker has tested positi...</td>\n",
              "      <td>world</td>\n",
              "    </tr>\n",
              "    <tr>\n",
              "      <th>29</th>\n",
              "      <td>We have supplied 260 mn COVID-19 vaccines glob...</td>\n",
              "      <td>Sinovac Biotech has supplied 260 million doses...</td>\n",
              "      <td>world</td>\n",
              "    </tr>\n",
              "    <tr>\n",
              "      <th>30</th>\n",
              "      <td>6 mistakenly injected with saline instead of C...</td>\n",
              "      <td>Six people were mistakenly injected with salin...</td>\n",
              "      <td>world</td>\n",
              "    </tr>\n",
              "    <tr>\n",
              "      <th>31</th>\n",
              "      <td>EU finds possible link between blood clots &amp; J...</td>\n",
              "      <td>European Medicines Agency said there exists a ...</td>\n",
              "      <td>world</td>\n",
              "    </tr>\n",
              "    <tr>\n",
              "      <th>32</th>\n",
              "      <td>China-linked hackers spied on US defence indus...</td>\n",
              "      <td>China-linked hackers used a previously undiscl...</td>\n",
              "      <td>world</td>\n",
              "    </tr>\n",
              "    <tr>\n",
              "      <th>33</th>\n",
              "      <td>China brought enormous force to border without...</td>\n",
              "      <td>External Affairs Minister S Jaishankar on Mond...</td>\n",
              "      <td>world</td>\n",
              "    </tr>\n",
              "    <tr>\n",
              "      <th>34</th>\n",
              "      <td>World running out of time to tackle climate cr...</td>\n",
              "      <td>UN Secretary-General Antonio Guterres said 202...</td>\n",
              "      <td>world</td>\n",
              "    </tr>\n",
              "    <tr>\n",
              "      <th>35</th>\n",
              "      <td>Countries should refrain from mass anti-Russia...</td>\n",
              "      <td>The Kremlin on Tuesday said that Russia wasn't...</td>\n",
              "      <td>world</td>\n",
              "    </tr>\n",
              "    <tr>\n",
              "      <th>36</th>\n",
              "      <td>Pak Parliament to vote on French envoy's expul...</td>\n",
              "      <td>Pakistan's government will seek a vote in Parl...</td>\n",
              "      <td>world</td>\n",
              "    </tr>\n",
              "    <tr>\n",
              "      <th>37</th>\n",
              "      <td>9 times more migrant kids arriving in Mexico t...</td>\n",
              "      <td>UNICEF announced on Monday that the number of ...</td>\n",
              "      <td>world</td>\n",
              "    </tr>\n",
              "    <tr>\n",
              "      <th>38</th>\n",
              "      <td>Americans able to breathe easier under Biden a...</td>\n",
              "      <td>US Vice President Kamala Harris said Americans...</td>\n",
              "      <td>world</td>\n",
              "    </tr>\n",
              "    <tr>\n",
              "      <th>39</th>\n",
              "      <td>China rejects accusations of abuses in Xinjiang</td>\n",
              "      <td>China has rejected accusations of abuses in Xi...</td>\n",
              "      <td>world</td>\n",
              "    </tr>\n",
              "    <tr>\n",
              "      <th>40</th>\n",
              "      <td>Why not same passion for COVID-19 as shown to ...</td>\n",
              "      <td>Congress leader Kapil Sibal on Tuesday critici...</td>\n",
              "      <td>politics</td>\n",
              "    </tr>\n",
              "    <tr>\n",
              "      <th>41</th>\n",
              "      <td>Pic of Fadnavis' 22-yr-old nephew getting vacc...</td>\n",
              "      <td>Former Maharashtra CM Devendra Fadnavis has be...</td>\n",
              "      <td>politics</td>\n",
              "    </tr>\n",
              "    <tr>\n",
              "      <th>42</th>\n",
              "      <td>PM Modi wishes Rahul Gandhi quick recovery fro...</td>\n",
              "      <td>Prime Minister Narendra Modi on Tuesday wished...</td>\n",
              "      <td>politics</td>\n",
              "    </tr>\n",
              "    <tr>\n",
              "      <th>43</th>\n",
              "      <td>Govt's new strategy is of vaccine discriminati...</td>\n",
              "      <td>Congress leader Rahul Gandhi on Tuesday critic...</td>\n",
              "      <td>politics</td>\n",
              "    </tr>\n",
              "    <tr>\n",
              "      <th>44</th>\n",
              "      <td>6-day lockdown in Delhi imposed to cover failu...</td>\n",
              "      <td>Uttar Pradesh minister Sidharth Nath Singh on ...</td>\n",
              "      <td>politics</td>\n",
              "    </tr>\n",
              "    <tr>\n",
              "      <th>45</th>\n",
              "      <td>No big rallies in Bengal, only small meetings ...</td>\n",
              "      <td>In view of the rising COVID-19 cases, the BJP ...</td>\n",
              "      <td>politics</td>\n",
              "    </tr>\n",
              "    <tr>\n",
              "      <th>46</th>\n",
              "      <td>BJP's youth wing launches state-wise COVID-19 ...</td>\n",
              "      <td>The Bharatiya Janata Yuva Morcha (BJYM) has la...</td>\n",
              "      <td>politics</td>\n",
              "    </tr>\n",
              "    <tr>\n",
              "      <th>47</th>\n",
              "      <td>Rahul Gandhi can come to Haryana for COVID-19 ...</td>\n",
              "      <td>Hours after Wayanad MP Rahul Gandhi tested pos...</td>\n",
              "      <td>politics</td>\n",
              "    </tr>\n",
              "    <tr>\n",
              "      <th>48</th>\n",
              "      <td>Fund manufacturers of 2 India-made vaccines: C...</td>\n",
              "      <td>Senior Congress leader P Chidambaram on Monday...</td>\n",
              "      <td>politics</td>\n",
              "    </tr>\n",
              "    <tr>\n",
              "      <th>49</th>\n",
              "      <td>Darekar asked FDA to buy Remdesivir from Bruck...</td>\n",
              "      <td>BJP leader Devendra Fadnavis, when asked if BJ...</td>\n",
              "      <td>politics</td>\n",
              "    </tr>\n",
              "    <tr>\n",
              "      <th>50</th>\n",
              "      <td>PM allowed vaccines' open market sale after de...</td>\n",
              "      <td>West Bengal CM Mamata Banerjee accused PM Nare...</td>\n",
              "      <td>politics</td>\n",
              "    </tr>\n",
              "    <tr>\n",
              "      <th>51</th>\n",
              "      <td>Ensure COVID-19 vaccine availability at the ea...</td>\n",
              "      <td>West Bengal Chief Minister Mamata Banerjee on ...</td>\n",
              "      <td>politics</td>\n",
              "    </tr>\n",
              "    <tr>\n",
              "      <th>52</th>\n",
              "      <td>Debar TMC's Firhad Hakim from Bengal poll camp...</td>\n",
              "      <td>BJP has written to Chief Electoral Officer, re...</td>\n",
              "      <td>politics</td>\n",
              "    </tr>\n",
              "    <tr>\n",
              "      <th>53</th>\n",
              "      <td>Raut's remarks on Kannadigas anti-national: Ka...</td>\n",
              "      <td>Karnataka BJP on Tuesday took a dig at state C...</td>\n",
              "      <td>politics</td>\n",
              "    </tr>\n",
              "    <tr>\n",
              "      <th>54</th>\n",
              "      <td>Delhi court rejects middleman's bail plea in D...</td>\n",
              "      <td>A Delhi court has rejected the bail applicatio...</td>\n",
              "      <td>politics</td>\n",
              "    </tr>\n",
              "    <tr>\n",
              "      <th>55</th>\n",
              "      <td>Campaign ends ahead of sixth phase of polls in...</td>\n",
              "      <td>The campaign for sixth phase of West Bengal As...</td>\n",
              "      <td>politics</td>\n",
              "    </tr>\n",
              "    <tr>\n",
              "      <th>56</th>\n",
              "      <td>Kamal Haasan complains of 'mystery' vehicles i...</td>\n",
              "      <td>Makkal Needhi Maiam (MNM) chief Kamal Haasan o...</td>\n",
              "      <td>politics</td>\n",
              "    </tr>\n",
              "    <tr>\n",
              "      <th>57</th>\n",
              "      <td>TMC speaking in different voices on leader und...</td>\n",
              "      <td>Union Home Minister Amit Shah on Monday said T...</td>\n",
              "      <td>politics</td>\n",
              "    </tr>\n",
              "    <tr>\n",
              "      <th>58</th>\n",
              "      <td>Probe medicine hoarders instead of Opp'n: Cong...</td>\n",
              "      <td>Congress leader and ex-Maharashtra CM Ashok Ch...</td>\n",
              "      <td>politics</td>\n",
              "    </tr>\n",
              "    <tr>\n",
              "      <th>59</th>\n",
              "      <td>Bengal shouldn't be party to national degenera...</td>\n",
              "      <td>Nobel laureate Amartya Sen has said that Benga...</td>\n",
              "      <td>politics</td>\n",
              "    </tr>\n",
              "  </tbody>\n",
              "</table>\n",
              "</div>"
            ],
            "text/plain": [
              "                                        news_headline  ... news_category\n",
              "0   Beckham responds to European Super League plan...  ...        sports\n",
              "1   DC end 5-match losing streak vs MI, win 1st ma...  ...        sports\n",
              "2   Shubman's family receives Mahindra Thar gifted...  ...        sports\n",
              "3   Situation becoming challenging, request you to...  ...        sports\n",
              "4   RR get in ICU once Buttler and Samson are dism...  ...        sports\n",
              "5   Dhawan's current form reminds me of his U-19 d...  ...        sports\n",
              "6   MI know Chennai conditions, challenge is for u...  ...        sports\n",
              "7   Dhoni was spot on in his 200th match as CSK sk...  ...        sports\n",
              "8   Amit Mishra (4/24) registers best figures by a...  ...        sports\n",
              "9   ABD, Rohit: Kuldeep names the toughest to bowl...  ...        sports\n",
              "10  As the old man, I'm happy to see new all-round...  ...        sports\n",
              "11  DC need to get Mishra for Meriwala, Rahane for...  ...        sports\n",
              "12  Uthappa is waiting but Gaikwad has earned time...  ...        sports\n",
              "13  The 1st 6 balls I played could have cost us in...  ...        sports\n",
              "14  Challenge would be to switch on mentally on Ch...  ...        sports\n",
              "15  Moeen Ali is on fire, he's enjoying batting at...  ...        sports\n",
              "16   CSK batting order is so long, Dhoni can take ...  ...        sports\n",
              "17  CSK can build their team around Jadeja once Dh...  ...        sports\n",
              "18  European Super League is a 'war on football': ...  ...        sports\n",
              "19  New Zealand pacer Wagner receives first dose o...  ...        sports\n",
              "20  Which countries have restricted travel from In...  ...         world\n",
              "21  Otters having cough, runny noses test positive...  ...         world\n",
              "22  Israel registers 8 cases of COVID-19 strain 1s...  ...         world\n",
              "23  We understand India's needs: US after Poonawal...  ...         world\n",
              "24  Chad President dies 'in clashes with rebels' a...  ...         world\n",
              "25  World War II-era plane crash-lands in ocean ne...  ...         world\n",
              "26  People's reaction shocked me: Bush recalls old...  ...         world\n",
              "27  US airport officers find crystal meth inside t...  ...         world\n",
              "28  NZ airport worker tests COVID-19 +ve day after...  ...         world\n",
              "29  We have supplied 260 mn COVID-19 vaccines glob...  ...         world\n",
              "30  6 mistakenly injected with saline instead of C...  ...         world\n",
              "31  EU finds possible link between blood clots & J...  ...         world\n",
              "32  China-linked hackers spied on US defence indus...  ...         world\n",
              "33  China brought enormous force to border without...  ...         world\n",
              "34  World running out of time to tackle climate cr...  ...         world\n",
              "35  Countries should refrain from mass anti-Russia...  ...         world\n",
              "36  Pak Parliament to vote on French envoy's expul...  ...         world\n",
              "37  9 times more migrant kids arriving in Mexico t...  ...         world\n",
              "38  Americans able to breathe easier under Biden a...  ...         world\n",
              "39    China rejects accusations of abuses in Xinjiang  ...         world\n",
              "40  Why not same passion for COVID-19 as shown to ...  ...      politics\n",
              "41  Pic of Fadnavis' 22-yr-old nephew getting vacc...  ...      politics\n",
              "42  PM Modi wishes Rahul Gandhi quick recovery fro...  ...      politics\n",
              "43  Govt's new strategy is of vaccine discriminati...  ...      politics\n",
              "44  6-day lockdown in Delhi imposed to cover failu...  ...      politics\n",
              "45  No big rallies in Bengal, only small meetings ...  ...      politics\n",
              "46  BJP's youth wing launches state-wise COVID-19 ...  ...      politics\n",
              "47  Rahul Gandhi can come to Haryana for COVID-19 ...  ...      politics\n",
              "48  Fund manufacturers of 2 India-made vaccines: C...  ...      politics\n",
              "49  Darekar asked FDA to buy Remdesivir from Bruck...  ...      politics\n",
              "50  PM allowed vaccines' open market sale after de...  ...      politics\n",
              "51  Ensure COVID-19 vaccine availability at the ea...  ...      politics\n",
              "52  Debar TMC's Firhad Hakim from Bengal poll camp...  ...      politics\n",
              "53  Raut's remarks on Kannadigas anti-national: Ka...  ...      politics\n",
              "54  Delhi court rejects middleman's bail plea in D...  ...      politics\n",
              "55  Campaign ends ahead of sixth phase of polls in...  ...      politics\n",
              "56  Kamal Haasan complains of 'mystery' vehicles i...  ...      politics\n",
              "57  TMC speaking in different voices on leader und...  ...      politics\n",
              "58  Probe medicine hoarders instead of Opp'n: Cong...  ...      politics\n",
              "59  Bengal shouldn't be party to national degenera...  ...      politics\n",
              "\n",
              "[60 rows x 3 columns]"
            ]
          },
          "metadata": {
            "tags": []
          },
          "execution_count": 15
        }
      ]
    },
    {
      "cell_type": "code",
      "metadata": {
        "colab": {
          "base_uri": "https://localhost:8080/"
        },
        "id": "Dzfpzk-TjUgB",
        "outputId": "3f57493c-1054-47e8-ab2a-85e153751bc6"
      },
      "source": [
        "import nltk\n",
        "nltk.download('stopwords')\n",
        "stopword_list=nltk.corpus.stopwords.words('english')\n",
        "stopword_list.remove('no')\n",
        "stopword_list.remove('not')\n",
        "len(stopword_list)"
      ],
      "execution_count": 16,
      "outputs": [
        {
          "output_type": "stream",
          "text": [
            "[nltk_data] Downloading package stopwords to /root/nltk_data...\n",
            "[nltk_data]   Unzipping corpora/stopwords.zip.\n"
          ],
          "name": "stdout"
        },
        {
          "output_type": "execute_result",
          "data": {
            "text/plain": [
              "177"
            ]
          },
          "metadata": {
            "tags": []
          },
          "execution_count": 16
        }
      ]
    },
    {
      "cell_type": "code",
      "metadata": {
        "colab": {
          "base_uri": "https://localhost:8080/",
          "height": 35
        },
        "id": "oHXfwhS_joh5",
        "outputId": "09f061cf-9b20-4294-cde0-cbde13ea621c"
      },
      "source": [
        "#Remove HTML Tag\n",
        "def html_tag(text):\n",
        "  soup=BeautifulSoup(text,\"html.parser\")\n",
        "  new_text=soup.get_text()\n",
        "  return new_text\n",
        "html_tag('<html><h2>Some confidential information</h2></html>')"
      ],
      "execution_count": 17,
      "outputs": [
        {
          "output_type": "execute_result",
          "data": {
            "application/vnd.google.colaboratory.intrinsic+json": {
              "type": "string"
            },
            "text/plain": [
              "'Some confidential information'"
            ]
          },
          "metadata": {
            "tags": []
          },
          "execution_count": 17
        }
      ]
    },
    {
      "cell_type": "code",
      "metadata": {
        "colab": {
          "base_uri": "https://localhost:8080/",
          "height": 341
        },
        "id": "krTlIAQsjybn",
        "outputId": "3eebbf43-b65c-47ed-8f5f-faf3a2d23b6d"
      },
      "source": [
        "#Expand contractions\n",
        "!pip install contractions\n",
        "import contractions\n",
        "def con(text):\n",
        "  expand=contractions.fix(text)\n",
        "  return expand\n",
        "con(\"I'm shanmukh munnam\")"
      ],
      "execution_count": 18,
      "outputs": [
        {
          "output_type": "stream",
          "text": [
            "Collecting contractions\n",
            "  Downloading https://files.pythonhosted.org/packages/0a/04/d5e0bb9f2cef5d15616ebf68087a725c5dbdd71bd422bcfb35d709f98ce7/contractions-0.0.48-py2.py3-none-any.whl\n",
            "Collecting textsearch>=0.0.21\n",
            "  Downloading https://files.pythonhosted.org/packages/d3/fe/021d7d76961b5ceb9f8d022c4138461d83beff36c3938dc424586085e559/textsearch-0.0.21-py2.py3-none-any.whl\n",
            "Collecting anyascii\n",
            "\u001b[?25l  Downloading https://files.pythonhosted.org/packages/a3/14/666cd44bf53f36a961544af592cb5c5c800013f9c51a4745af8d7c17362a/anyascii-0.2.0-py3-none-any.whl (283kB)\n",
            "\u001b[K     |████████████████████████████████| 286kB 9.4MB/s \n",
            "\u001b[?25hCollecting pyahocorasick\n",
            "\u001b[?25l  Downloading https://files.pythonhosted.org/packages/7f/c2/eae730037ae1cbbfaa229d27030d1d5e34a1e41114b21447d1202ae9c220/pyahocorasick-1.4.2.tar.gz (321kB)\n",
            "\u001b[K     |████████████████████████████████| 327kB 15.7MB/s \n",
            "\u001b[?25hBuilding wheels for collected packages: pyahocorasick\n",
            "  Building wheel for pyahocorasick (setup.py) ... \u001b[?25l\u001b[?25hdone\n",
            "  Created wheel for pyahocorasick: filename=pyahocorasick-1.4.2-cp37-cp37m-linux_x86_64.whl size=85400 sha256=d20fefd2e8d4340a764b98263c4b85d1d3ae5196421b1e310b4d42213b56764a\n",
            "  Stored in directory: /root/.cache/pip/wheels/3a/03/34/77e3ece0bba8b86bfac88a79f923b36d805cad63caeba38842\n",
            "Successfully built pyahocorasick\n",
            "Installing collected packages: anyascii, pyahocorasick, textsearch, contractions\n",
            "Successfully installed anyascii-0.2.0 contractions-0.0.48 pyahocorasick-1.4.2 textsearch-0.0.21\n"
          ],
          "name": "stdout"
        },
        {
          "output_type": "execute_result",
          "data": {
            "application/vnd.google.colaboratory.intrinsic+json": {
              "type": "string"
            },
            "text/plain": [
              "'I am shanmukh munnam'"
            ]
          },
          "metadata": {
            "tags": []
          },
          "execution_count": 18
        }
      ]
    },
    {
      "cell_type": "code",
      "metadata": {
        "colab": {
          "base_uri": "https://localhost:8080/",
          "height": 35
        },
        "id": "jX8JcWMBj_dh",
        "outputId": "df0ad8c0-06df-4acd-bd06-cca71830c12f"
      },
      "source": [
        "#Removal of Special Characters\n",
        "import re\n",
        "def remove_sp(text):\n",
        "  pattern=r'[^A-Za-z0-9\\s]'\n",
        "  text=re.sub(pattern,'',text)\n",
        "  return text\n",
        "remove_sp(\"Hello# I am shanmukh@123#\")"
      ],
      "execution_count": 20,
      "outputs": [
        {
          "output_type": "execute_result",
          "data": {
            "application/vnd.google.colaboratory.intrinsic+json": {
              "type": "string"
            },
            "text/plain": [
              "'Hello I am shanmukh123'"
            ]
          },
          "metadata": {
            "tags": []
          },
          "execution_count": 20
        }
      ]
    },
    {
      "cell_type": "code",
      "metadata": {
        "id": "QXq0-wLTkNp_"
      },
      "source": [
        "from nltk.tokenize.toktok import ToktokTokenizer\n",
        "tokenizer=ToktokTokenizer()"
      ],
      "execution_count": 21,
      "outputs": []
    },
    {
      "cell_type": "code",
      "metadata": {
        "id": "6TgGrNVRkVDk"
      },
      "source": [
        "def remove_stopwords(text):\n",
        "  tokens=tokenizer.tokenize(text)\n",
        "  tokens=[token.strip() for token in tokens]\n",
        "  filtered_tokens=[token for token in tokens if token not in stopword_list]\n",
        "  filtered_text=' '.join(filtered_tokens)\n",
        "  return filtered_text"
      ],
      "execution_count": 22,
      "outputs": []
    },
    {
      "cell_type": "code",
      "metadata": {
        "colab": {
          "base_uri": "https://localhost:8080/",
          "height": 35
        },
        "id": "HlsJc0Z0kdIZ",
        "outputId": "21c3e1a5-ed40-4c2f-9d2a-d065e612f947"
      },
      "source": [
        "remove_stopwords(\"The,and,if all are stopwords and even not\")"
      ],
      "execution_count": 23,
      "outputs": [
        {
          "output_type": "execute_result",
          "data": {
            "application/vnd.google.colaboratory.intrinsic+json": {
              "type": "string"
            },
            "text/plain": [
              "'The , , stopwords even not'"
            ]
          },
          "metadata": {
            "tags": []
          },
          "execution_count": 23
        }
      ]
    },
    {
      "cell_type": "code",
      "metadata": {
        "colab": {
          "base_uri": "https://localhost:8080/",
          "height": 195
        },
        "id": "qwDa9LCIkmQd",
        "outputId": "26476c83-e9e3-4fe5-e8c9-ee70bfe37ac0"
      },
      "source": [
        "#1.Lowercase\n",
        "#2. HTML Tags\n",
        "#3.Contractions\n",
        "#4.Special Characters\n",
        "#5.Stopwords\n",
        "df.news_headline=df.news_headline.apply(lambda x:x.lower())\n",
        "df.news_article=df.news_article.apply(lambda x:x.lower())\n",
        "\n",
        "df.news_headline=df.news_headline.apply(html_tag)\n",
        "df.news_article=df.news_article.apply(html_tag)\n",
        "\n",
        "df.news_headline=df.news_headline.apply(con)\n",
        "df.news_article=df.news_article.apply(con)\n",
        "\n",
        "df.news_headline=df.news_headline.apply(remove_sp)\n",
        "df.news_article=df.news_article.apply(remove_sp)\n",
        "\n",
        "df.news_headline=df.news_headline.apply(remove_stopwords)\n",
        "df.news_article=df.news_article.apply(remove_stopwords)\n",
        "\n",
        "df.head()"
      ],
      "execution_count": 24,
      "outputs": [
        {
          "output_type": "execute_result",
          "data": {
            "text/html": [
              "<div>\n",
              "<style scoped>\n",
              "    .dataframe tbody tr th:only-of-type {\n",
              "        vertical-align: middle;\n",
              "    }\n",
              "\n",
              "    .dataframe tbody tr th {\n",
              "        vertical-align: top;\n",
              "    }\n",
              "\n",
              "    .dataframe thead th {\n",
              "        text-align: right;\n",
              "    }\n",
              "</style>\n",
              "<table border=\"1\" class=\"dataframe\">\n",
              "  <thead>\n",
              "    <tr style=\"text-align: right;\">\n",
              "      <th></th>\n",
              "      <th>news_headline</th>\n",
              "      <th>news_article</th>\n",
              "      <th>news_category</th>\n",
              "    </tr>\n",
              "  </thead>\n",
              "  <tbody>\n",
              "    <tr>\n",
              "      <th>0</th>\n",
              "      <td>beckham responds european super league plan sa...</td>\n",
              "      <td>12 europes leading football clubs including ma...</td>\n",
              "      <td>sports</td>\n",
              "    </tr>\n",
              "    <tr>\n",
              "      <th>1</th>\n",
              "      <td>dc end 5match losing streak vs mi win 1st matc...</td>\n",
              "      <td>delhi capitals defeated mumbai indians six wic...</td>\n",
              "      <td>sports</td>\n",
              "    </tr>\n",
              "    <tr>\n",
              "      <th>2</th>\n",
              "      <td>shubmans family receives mahindra thar gifted ...</td>\n",
              "      <td>team india batsman shubman gill took social me...</td>\n",
              "      <td>sports</td>\n",
              "    </tr>\n",
              "    <tr>\n",
              "      <th>3</th>\n",
              "      <td>situation becoming challenging request follow ...</td>\n",
              "      <td>video shared delhi police team india captain v...</td>\n",
              "      <td>sports</td>\n",
              "    </tr>\n",
              "    <tr>\n",
              "      <th>4</th>\n",
              "      <td>rr get icu buttler samson dismissed aakash chopra</td>\n",
              "      <td>exindia batsman aakash chopra said rajasthan r...</td>\n",
              "      <td>sports</td>\n",
              "    </tr>\n",
              "  </tbody>\n",
              "</table>\n",
              "</div>"
            ],
            "text/plain": [
              "                                       news_headline  ... news_category\n",
              "0  beckham responds european super league plan sa...  ...        sports\n",
              "1  dc end 5match losing streak vs mi win 1st matc...  ...        sports\n",
              "2  shubmans family receives mahindra thar gifted ...  ...        sports\n",
              "3  situation becoming challenging request follow ...  ...        sports\n",
              "4  rr get icu buttler samson dismissed aakash chopra  ...        sports\n",
              "\n",
              "[5 rows x 3 columns]"
            ]
          },
          "metadata": {
            "tags": []
          },
          "execution_count": 24
        }
      ]
    },
    {
      "cell_type": "code",
      "metadata": {
        "id": "pvSbxV52kuKa"
      },
      "source": [
        "df['compound']=df['news_article'].apply(lambda x: vs.polarity_scores(x)['compound'])"
      ],
      "execution_count": 25,
      "outputs": []
    },
    {
      "cell_type": "code",
      "metadata": {
        "colab": {
          "base_uri": "https://localhost:8080/",
          "height": 195
        },
        "id": "uACwHhN4k2MI",
        "outputId": "42071112-ec48-4382-99e9-33e6893908b4"
      },
      "source": [
        "df.head()"
      ],
      "execution_count": 26,
      "outputs": [
        {
          "output_type": "execute_result",
          "data": {
            "text/html": [
              "<div>\n",
              "<style scoped>\n",
              "    .dataframe tbody tr th:only-of-type {\n",
              "        vertical-align: middle;\n",
              "    }\n",
              "\n",
              "    .dataframe tbody tr th {\n",
              "        vertical-align: top;\n",
              "    }\n",
              "\n",
              "    .dataframe thead th {\n",
              "        text-align: right;\n",
              "    }\n",
              "</style>\n",
              "<table border=\"1\" class=\"dataframe\">\n",
              "  <thead>\n",
              "    <tr style=\"text-align: right;\">\n",
              "      <th></th>\n",
              "      <th>news_headline</th>\n",
              "      <th>news_article</th>\n",
              "      <th>news_category</th>\n",
              "      <th>compound</th>\n",
              "    </tr>\n",
              "  </thead>\n",
              "  <tbody>\n",
              "    <tr>\n",
              "      <th>0</th>\n",
              "      <td>beckham responds european super league plan sa...</td>\n",
              "      <td>12 europes leading football clubs including ma...</td>\n",
              "      <td>sports</td>\n",
              "      <td>0.9584</td>\n",
              "    </tr>\n",
              "    <tr>\n",
              "      <th>1</th>\n",
              "      <td>dc end 5match losing streak vs mi win 1st matc...</td>\n",
              "      <td>delhi capitals defeated mumbai indians six wic...</td>\n",
              "      <td>sports</td>\n",
              "      <td>0.5574</td>\n",
              "    </tr>\n",
              "    <tr>\n",
              "      <th>2</th>\n",
              "      <td>shubmans family receives mahindra thar gifted ...</td>\n",
              "      <td>team india batsman shubman gill took social me...</td>\n",
              "      <td>sports</td>\n",
              "      <td>0.8555</td>\n",
              "    </tr>\n",
              "    <tr>\n",
              "      <th>3</th>\n",
              "      <td>situation becoming challenging request follow ...</td>\n",
              "      <td>video shared delhi police team india captain v...</td>\n",
              "      <td>sports</td>\n",
              "      <td>0.4019</td>\n",
              "    </tr>\n",
              "    <tr>\n",
              "      <th>4</th>\n",
              "      <td>rr get icu buttler samson dismissed aakash chopra</td>\n",
              "      <td>exindia batsman aakash chopra said rajasthan r...</td>\n",
              "      <td>sports</td>\n",
              "      <td>-0.0516</td>\n",
              "    </tr>\n",
              "  </tbody>\n",
              "</table>\n",
              "</div>"
            ],
            "text/plain": [
              "                                       news_headline  ... compound\n",
              "0  beckham responds european super league plan sa...  ...   0.9584\n",
              "1  dc end 5match losing streak vs mi win 1st matc...  ...   0.5574\n",
              "2  shubmans family receives mahindra thar gifted ...  ...   0.8555\n",
              "3  situation becoming challenging request follow ...  ...   0.4019\n",
              "4  rr get icu buttler samson dismissed aakash chopra  ...  -0.0516\n",
              "\n",
              "[5 rows x 4 columns]"
            ]
          },
          "metadata": {
            "tags": []
          },
          "execution_count": 26
        }
      ]
    }
  ]
}